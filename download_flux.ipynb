{
 "cells": [
  {
   "cell_type": "code",
   "execution_count": 1,
   "metadata": {},
   "outputs": [
    {
     "name": "stdout",
     "output_type": "stream",
     "text": [
      "gzip was not found on your system! You should solve this issue for astroquery.eso to be at its best!\n",
      "On POSIX system: make sure gzip is installed and in your path!On Windows: same for 7-zip (http://www.7-zip.org)!\n"
     ]
    }
   ],
   "source": [
    "import numpy as np\n",
    "import pandas as pd\n",
    "import warnings\n",
    "import time\n",
    "import astropy.units as u   #单位\n",
    "from astropy.coordinates import SkyCoord   # 天球坐标\n",
    "from astroquery.irsa import Irsa  # 所需数据库 "
   ]
  },
  {
   "cell_type": "code",
   "execution_count": 2,
   "metadata": {},
   "outputs": [],
   "source": [
    "# 读入现有数据\n",
    "\n",
    "data = pd.read_csv(\"galaxy_all.csv\", usecols=[0,1,2,3,6], skiprows=1, header=None, \n",
    "                   names=['name', 'band', 'ra', 'dec', 'herf_70'])\n",
    "data['herf_100'] = np.nan\n",
    "data['herf_160'] = np.nan\n",
    "data['herf_250'] = np.nan\n",
    "data['herf_350'] = np.nan\n",
    "data['herf_500'] = np.nan\n",
    "data['wisevega_1'] = np.nan\n",
    "data['wisevega_2'] = np.nan\n",
    "data['wisevega_3'] = np.nan\n",
    "data['wisevega_4'] = np.nan\n",
    "data['2mvega_j'] = np.nan\n",
    "data['2mvega_h'] = np.nan\n",
    "data['2mvega_k'] = np.nan\n",
    "\n",
    "# 'herf_100', 'herf_160','herf_250', 'herf_350', 'herf_500', \n",
    "# 'wisevega_1', 'wisevega_2', 'wisevega_3', 'wisevega_4', '2mvega_j', '2mvega_h', '2mvega_k'"
   ]
  },
  {
   "cell_type": "code",
   "execution_count": 3,
   "metadata": {
    "scrolled": true
   },
   "outputs": [],
   "source": [
    "# 寻找所需星等/流量数据\n",
    "\n",
    "index = len(data)\n",
    "\n",
    "for i in range(1601, index):  # 修改range初值，可从上次中断保存处继续运行\n",
    "    print ('The echo is', i, '/', index)\n",
    "    ra = data['ra'][i]\n",
    "    dec = data['dec'][i]\n",
    "    warnings.filterwarnings('ignore')\n",
    "    \n",
    "    # herschel 100 微米\n",
    "    table_her100 = Irsa.query_region(SkyCoord(ra, dec, unit=(u.deg, u.deg)), \n",
    "                                     catalog='ppsc_100', radius=3 * u.arcsec)\n",
    "    if len(table_her100) > 0:\n",
    "        data['herf_100'][i] = table_her100['flux'][0]\n",
    "    \n",
    "    # herschel 160 微米\n",
    "    table_her160 = Irsa.query_region(SkyCoord(ra, dec, unit=(u.deg, u.deg)), \n",
    "                                     catalog='ppsc_160', radius=3 * u.arcsec)  \n",
    "    if len(table_her160) > 0:\n",
    "        data['herf_160'][i] = table_her160['flux'][0]\n",
    "    \n",
    "    # herschel 250 微米\n",
    "    table_her250 = Irsa.query_region(SkyCoord(ra, dec, unit=(u.deg, u.deg)), \n",
    "                                     catalog='spsc250', radius=3 * u.arcsec)\n",
    "    if len(table_her250) > 0:\n",
    "        data['herf_250'][i] = table_her250['flux'][0]\n",
    "    \n",
    "    # herschel 350 微米\n",
    "    table_her350 = Irsa.query_region(SkyCoord(ra, dec, unit=(u.deg, u.deg)), \n",
    "                                     catalog='spsc350', radius=3 * u.arcsec)\n",
    "    if len(table_her350) > 0:\n",
    "        data['herf_350'][i] = table_her350['flux'][0]\n",
    "    \n",
    "    # herschel 500 微米\n",
    "    table_her500 = Irsa.query_region(SkyCoord(ra, dec, unit=(u.deg, u.deg)), \n",
    "                                     catalog='spsc500', radius=3 * u.arcsec)\n",
    "    if len(table_her500) > 0:\n",
    "        data['herf_500'][i] = table_her500['flux'][0]\n",
    "    \n",
    "    # wise：w1mpro(3.4微米), w2mpro(4.2微米), w3mpro(12微米), w4mpro(22微米)\n",
    "    table_wise = Irsa.query_region(SkyCoord(ra, dec, unit=(u.deg, u.deg)), \n",
    "                                   catalog='allwise_p3as_psd', radius=3 * u.arcsec)\n",
    "    if len(table_wise) > 0:\n",
    "        data['wisevega_1'][i] = table_wise['w1mpro'][0]\n",
    "        data['wisevega_2'][i] = table_wise['w2mpro'][0]\n",
    "        data['wisevega_3'][i] = table_wise['w3mpro'][0]\n",
    "        data['wisevega_4'][i] = table_wise['w4mpro'][0]\n",
    "    \n",
    "    # 2mass：j_m(1.23微米), h_m(1.66微米), k_m(2.15微米)\n",
    "    table_2mass = Irsa.query_region(SkyCoord(ra, dec, unit=(u.deg, u.deg)), \n",
    "                                    catalog='fp_psc', radius=3 * u.arcsec)\n",
    "    if len(table_2mass) > 0:\n",
    "        data['2mvega_j'][i] = table_2mass['j_m'][0]\n",
    "        data['2mvega_h'][i] = table_2mass['h_m'][0]\n",
    "        data['2mvega_k'][i] = table_2mass['k_m'][0]\n",
    "    \n",
    "    '''\n",
    "    # 定时中断保存\n",
    "    interval = 200\n",
    "    if (i % interval) == 0 and i != 0 :   # 每查询200次保存一次文件\n",
    "        data_name = 'flux_original_%s.csv' % (i)\n",
    "        data.to_csv(data_name, float_format=\"%.6f\", index=0)\n",
    "        print ('The file %s has been saved.\\n' % data_name)\n",
    "        time.sleep(5)   # 提示信息延时5秒\n",
    "    '''    \n",
    "data.to_csv('flux_original.csv', float_format=\"%.6f\", index=0)"
   ]
  },
  {
   "cell_type": "code",
   "execution_count": null,
   "metadata": {},
   "outputs": [],
   "source": []
  }
 ],
 "metadata": {
  "kernelspec": {
   "display_name": "Python 3",
   "language": "python",
   "name": "python3"
  },
  "language_info": {
   "codemirror_mode": {
    "name": "ipython",
    "version": 3
   },
   "file_extension": ".py",
   "mimetype": "text/x-python",
   "name": "python",
   "nbconvert_exporter": "python",
   "pygments_lexer": "ipython3",
   "version": "3.7.0"
  }
 },
 "nbformat": 4,
 "nbformat_minor": 2
}
